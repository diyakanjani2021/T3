{
 "cells": [
  {
   "cell_type": "code",
   "execution_count": 1,
   "metadata": {},
   "outputs": [
    {
     "name": "stdout",
     "output_type": "stream",
     "text": [
      "name: Harry\n",
      "salary: 30000\n",
      "role: Engineer\n",
      "\n",
      "name: Rohan\n",
      "salary: 40000\n",
      "role: Developer\n",
      "\n"
     ]
    }
   ],
   "source": [
    "class Employee:\n",
    "    no_of_leaves=5\n",
    "    def printdetails(self):\n",
    "        print('name:',self.name)\n",
    "        print('salary:',self.salary)        \n",
    "        print('role:',self.role) \n",
    "        print()\n",
    "harry=Employee()\n",
    "rohan=Employee()\n",
    "harry.name=\"Harry\"\n",
    "harry.salary=30000\n",
    "harry.role=\"Engineer\"\n",
    "rohan.name=\"Rohan\"\n",
    "rohan.salary=40000\n",
    "rohan.role=\"Developer\"\n",
    "harry.printdetails()\n",
    "rohan.printdetails()"
   ]
  },
  {
   "cell_type": "code",
   "execution_count": 2,
   "metadata": {},
   "outputs": [
    {
     "name": "stdout",
     "output_type": "stream",
     "text": [
      "Name: Harry\n",
      "Salary: 30000\n",
      "Role: Engineer\n",
      "\n",
      "Name: Rohan\n",
      "Salary: 40000\n",
      "Role: Developer\n",
      "\n"
     ]
    }
   ],
   "source": [
    "class Employee:\n",
    "    no_of_leaves=5\n",
    "    def __init__(self,name,salary,role): #constructor\n",
    "        self.name=name\n",
    "        self.role=role\n",
    "        self.salary=salary\n",
    "    def printdetails(self):\n",
    "        print('Name:',self.name)\n",
    "        print('Salary:',self.salary)        \n",
    "        print('Role:',self.role) \n",
    "        print()\n",
    "harry=Employee(\"Harry\",30000,\"Engineer\")\n",
    "rohan=Employee(\"Rohan\",40000,\"Developer\")\n",
    "harry.printdetails()\n",
    "rohan.printdetails()"
   ]
  },
  {
   "cell_type": "code",
   "execution_count": 3,
   "metadata": {},
   "outputs": [
    {
     "name": "stdout",
     "output_type": "stream",
     "text": [
      "Address of self: 1588837222816\n",
      "Address of class object: 1588837222816\n",
      "5\n",
      "Address of self: 1588837415136\n",
      "Address of class object1: 1588837415136\n",
      "9\n"
     ]
    }
   ],
   "source": [
    "class check:\n",
    "    def __init__(self,m):\n",
    "        print(\"Address of self:\",id(self))\n",
    "        self.m=m\n",
    "obj=check(5)\n",
    "print(\"Address of class object:\",id(obj))\n",
    "print(obj.m)\n",
    "obj1=check(9)\n",
    "print(\"Address of class object1:\",id(obj1))\n",
    "print(obj1.m)"
   ]
  },
  {
   "cell_type": "code",
   "execution_count": 4,
   "metadata": {},
   "outputs": [
    {
     "name": "stdout",
     "output_type": "stream",
     "text": [
      "50\n"
     ]
    }
   ],
   "source": [
    "class test:\n",
    "    def __init__(self):\n",
    "        self.value=50\n",
    "        # show()=NameError\n",
    "        self.show()   \n",
    "    def show(self):\n",
    "        print(self.value)\n",
    "a=test()"
   ]
  },
  {
   "cell_type": "code",
   "execution_count": 5,
   "metadata": {},
   "outputs": [
    {
     "name": "stdout",
     "output_type": "stream",
     "text": [
      "this is static method\n"
     ]
    }
   ],
   "source": [
    "class scalar:\n",
    "    @staticmethod\n",
    "    def hello():\n",
    "        print('this is static method')\n",
    "a=scalar()\n",
    "a.hello()"
   ]
  },
  {
   "cell_type": "code",
   "execution_count": 6,
   "metadata": {},
   "outputs": [
    {
     "name": "stdout",
     "output_type": "stream",
     "text": [
      "this is static method Harry\n"
     ]
    }
   ],
   "source": [
    "class scalar:\n",
    "    @staticmethod\n",
    "    def hello(name):\n",
    "        print('this is static method',name)\n",
    "a=scalar()\n",
    "a.hello(\"Harry\")"
   ]
  },
  {
   "cell_type": "code",
   "execution_count": 7,
   "metadata": {},
   "outputs": [
    {
     "ename": "TypeError",
     "evalue": "__init__() takes 0 positional arguments but 1 was given",
     "output_type": "error",
     "traceback": [
      "\u001b[1;31m---------------------------------------------------------------------------\u001b[0m",
      "\u001b[1;31mTypeError\u001b[0m                                 Traceback (most recent call last)",
      "\u001b[1;32m<ipython-input-7-5b2c22dd8cdc>\u001b[0m in \u001b[0;36m<module>\u001b[1;34m\u001b[0m\n\u001b[0;32m      2\u001b[0m     \u001b[1;32mdef\u001b[0m \u001b[0m__init__\u001b[0m\u001b[1;33m(\u001b[0m\u001b[1;33m)\u001b[0m\u001b[1;33m:\u001b[0m \u001b[1;31m#self is mandatory\u001b[0m\u001b[1;33m\u001b[0m\u001b[1;33m\u001b[0m\u001b[0m\n\u001b[0;32m      3\u001b[0m         \u001b[0mprint\u001b[0m\u001b[1;33m(\u001b[0m\u001b[1;34m\"this is constructor\"\u001b[0m\u001b[1;33m)\u001b[0m\u001b[1;33m\u001b[0m\u001b[1;33m\u001b[0m\u001b[0m\n\u001b[1;32m----> 4\u001b[1;33m \u001b[0mobj\u001b[0m\u001b[1;33m=\u001b[0m\u001b[0mcheck\u001b[0m\u001b[1;33m(\u001b[0m\u001b[1;33m)\u001b[0m\u001b[1;33m\u001b[0m\u001b[1;33m\u001b[0m\u001b[0m\n\u001b[0m\u001b[0;32m      5\u001b[0m \u001b[0mprint\u001b[0m\u001b[1;33m(\u001b[0m\u001b[1;34m'worked fine'\u001b[0m\u001b[1;33m)\u001b[0m\u001b[1;33m\u001b[0m\u001b[1;33m\u001b[0m\u001b[0m\n",
      "\u001b[1;31mTypeError\u001b[0m: __init__() takes 0 positional arguments but 1 was given"
     ]
    }
   ],
   "source": [
    "class check:\n",
    "    def __init__(): #self is mandatory\n",
    "        print(\"this is constructor\")\n",
    "obj=check()\n",
    "print('worked fine')"
   ]
  },
  {
   "cell_type": "code",
   "execution_count": 8,
   "metadata": {},
   "outputs": [
    {
     "name": "stdout",
     "output_type": "stream",
     "text": [
      "5 5 140709174585248 140709174585248\n",
      "10 5 140709174585408 140709174585248\n",
      "10\n",
      "5\n"
     ]
    },
    {
     "ename": "NameError",
     "evalue": "name 'self' is not defined",
     "output_type": "error",
     "traceback": [
      "\u001b[1;31m---------------------------------------------------------------------------\u001b[0m",
      "\u001b[1;31mNameError\u001b[0m                                 Traceback (most recent call last)",
      "\u001b[1;32m<ipython-input-8-ad13f6a863ba>\u001b[0m in \u001b[0;36m<module>\u001b[1;34m\u001b[0m\n\u001b[0;32m     10\u001b[0m \u001b[0mprint\u001b[0m\u001b[1;33m(\u001b[0m\u001b[0ma1\u001b[0m\u001b[1;33m.\u001b[0m\u001b[0mrate\u001b[0m\u001b[1;33m)\u001b[0m\u001b[1;33m\u001b[0m\u001b[1;33m\u001b[0m\u001b[0m\n\u001b[0;32m     11\u001b[0m \u001b[0mprint\u001b[0m\u001b[1;33m(\u001b[0m\u001b[0mAccount\u001b[0m\u001b[1;33m.\u001b[0m\u001b[0mrate\u001b[0m\u001b[1;33m)\u001b[0m\u001b[1;33m\u001b[0m\u001b[1;33m\u001b[0m\u001b[0m\n\u001b[1;32m---> 12\u001b[1;33m \u001b[0mprint\u001b[0m\u001b[1;33m(\u001b[0m\u001b[0mself\u001b[0m\u001b[1;33m.\u001b[0m\u001b[0mrate\u001b[0m\u001b[1;33m)\u001b[0m\u001b[1;33m\u001b[0m\u001b[1;33m\u001b[0m\u001b[0m\n\u001b[0m",
      "\u001b[1;31mNameError\u001b[0m: name 'self' is not defined"
     ]
    }
   ],
   "source": [
    "class Account:\n",
    "    rate=5 #class variable/attribute\n",
    "    def some_method(self):\n",
    "        print(self.rate,Account.rate,id(self.rate),id(Account.rate))\n",
    "        self.rate=10 #obj variable/attribute\n",
    "        print(self.rate,Account.rate,id(self.rate),id(Account.rate))\n",
    "a1=Account()\n",
    "a2=Account()\n",
    "a1.some_method()\n",
    "print(a1.rate)\n",
    "print(Account.rate)\n",
    "print(self.rate)"
   ]
  },
  {
   "cell_type": "code",
   "execution_count": 11,
   "metadata": {},
   "outputs": [
    {
     "name": "stdout",
     "output_type": "stream",
     "text": [
      "30 30\n",
      "Harry Harry\n",
      "25 30\n",
      "they are different\n"
     ]
    }
   ],
   "source": [
    "class Person:\n",
    "    def __init__(self):\n",
    "        self.name=\"Harry\"\n",
    "        self.age=30\n",
    "    def update(self):\n",
    "        self.age=25\n",
    "    def compare(self,other):\n",
    "        print(self.age,other.age)\n",
    "        if self.age==other.age:\n",
    "            print('they are same')\n",
    "        else:\n",
    "            print('they are different')\n",
    "p1=Person()\n",
    "p2=Person()\n",
    "print(p1.age,p2.age)\n",
    "print(p1.name,p2.name)\n",
    "p1.update()\n",
    "p1.compare(p2)"
   ]
  },
  {
   "cell_type": "code",
   "execution_count": 14,
   "metadata": {},
   "outputs": [
    {
     "name": "stdout",
     "output_type": "stream",
     "text": [
      "the name is orange\n",
      "the name is banana\n",
      "the name is banana\n"
     ]
    }
   ],
   "source": [
    "class fruit:\n",
    "    name=\"orange\"\n",
    "    @classmethod\n",
    "    def printname(cls):\n",
    "        print('the name is',cls.name)\n",
    "fruit.printname()\n",
    "apple=fruit()\n",
    "cherry=fruit()\n",
    "fruit.name=\"banana\"\n",
    "apple.printname()\n",
    "apple.name=\"mango\"\n",
    "apple.printname()"
   ]
  },
  {
   "cell_type": "code",
   "execution_count": 3,
   "metadata": {},
   "outputs": [
    {
     "name": "stdout",
     "output_type": "stream",
     "text": [
      "enter no 2\n",
      "2\n",
      "4\n",
      "6\n",
      "8\n",
      "10\n",
      "12\n",
      "14\n",
      "16\n",
      "18\n",
      "20\n"
     ]
    }
   ],
   "source": [
    "# WAP to print the table of the given no using generator\n",
    "n=int(input('enter no '))\n",
    "def table(n):\n",
    "    for i in range(1,11):\n",
    "        yield n*i\n",
    "x=table(n)\n",
    "for i in x:\n",
    "    print(i)"
   ]
  },
  {
   "cell_type": "code",
   "execution_count": 2,
   "metadata": {},
   "outputs": [
    {
     "name": "stdout",
     "output_type": "stream",
     "text": [
      "enter marks of sub 1:56\n",
      "enter marks of sub 2:78\n",
      "enter marks of sub 3:89\n",
      "enter marks of sub 4:45\n",
      "enter marks of sub 5:90\n",
      "Name: abc\n",
      "Roll No: 1\n",
      "Branch: CSE\n",
      "[56, 78, 89, 45, 90]\n",
      "Average marks of abc is 71.6\n",
      "enter marks of sub 1:12\n",
      "enter marks of sub 2:45\n",
      "enter marks of sub 3:43\n",
      "enter marks of sub 4:34\n",
      "enter marks of sub 5:89\n",
      "Name: xyz\n",
      "Roll No: 2\n",
      "Branch: CSE\n",
      "[12, 45, 43, 34, 89]\n",
      "Average marks of xyz is 44.6\n",
      "enter marks of sub 1:57\n",
      "enter marks of sub 2:89\n",
      "enter marks of sub 3:887\n",
      "enter marks of sub 4:76\n",
      "enter marks of sub 5:54\n",
      "Name: pqr\n",
      "Roll No: 3\n",
      "Branch: CSE\n",
      "[57, 89, 887, 76, 54]\n",
      "Average marks of pqr is 232.6\n"
     ]
    }
   ],
   "source": [
    "'''WAP to create a class student\n",
    "There are 3 attributes-branch,rollno,name \n",
    "Consider branch as class variable\n",
    "Create different methods to enter marks of 5 subjects\n",
    "Create a display function which displays the name,rollno,branch and also the marks if it is available\n",
    "Also calculate the avg of all the marks'''\n",
    "class student:\n",
    "    branch=\"CSE\"\n",
    "    def __init__(self,rollno,name):\n",
    "        self.name=name\n",
    "        self.rollno=rollno\n",
    "    def marks(self):\n",
    "        self.l=[]\n",
    "        for i in range(1,6):\n",
    "            self.l.append(int(input(f'enter marks of sub {i}:')))\n",
    "    def display(self):\n",
    "        print('Name:',self.name)\n",
    "        print('Roll No:',self.rollno)\n",
    "        print('Branch:',self.branch)\n",
    "        if len(self.l)>0:\n",
    "            print(self.l)\n",
    "    def avg(self):\n",
    "        sum=0\n",
    "        for i in self.l:\n",
    "            sum+=i\n",
    "        print('Average marks of',self.name,'is',(sum/len(self.l)))\n",
    "s1=student(1,'abc')\n",
    "s1.marks()\n",
    "s1.display()\n",
    "s1.avg()\n",
    "s2=student(2,'xyz')\n",
    "s2.marks()\n",
    "s2.display()\n",
    "s2.avg()\n",
    "s3=student(3,'pqr')\n",
    "s3.marks()\n",
    "s3.display()\n",
    "s3.avg()"
   ]
  },
  {
   "cell_type": "code",
   "execution_count": 1,
   "metadata": {},
   "outputs": [
    {
     "name": "stdout",
     "output_type": "stream",
     "text": [
      "enter stringHello 123 Diya\n",
      "upper count: 2\n",
      "lower count: 7\n",
      "space count: 2\n",
      "digit count: 3\n",
      "vowel count: 4\n",
      "consonant count: 5\n"
     ]
    }
   ],
   "source": [
    "'''WAP to create class string and make methods to count uppercase,lowercase,vowels,consonants,\n",
    "spaces and digits from the string entered by the user'''\n",
    "class string:\n",
    "    def __init__(self):\n",
    "        self.uc=0\n",
    "        self.lc=0       \n",
    "        self.v=0      \n",
    "        self.c=0        \n",
    "        self.s=0       \n",
    "        self.d=0\n",
    "        self.str=input('enter string')\n",
    "    def uc_count(self):\n",
    "        for i in self.str:\n",
    "            if i.isupper():\n",
    "                self.uc+=1\n",
    "        print('upper count:',self.uc)\n",
    "    def lc_count(self):\n",
    "        for i in self.str:\n",
    "            if i.islower():\n",
    "                self.lc+=1\n",
    "        print('lower count:',self.lc)\n",
    "    def space_count(self):\n",
    "        s1=self.str.split()\n",
    "        self.s=len(s1)-1\n",
    "        print('space count:',self.s)\n",
    "    def digit_count(self):\n",
    "        for i in self.str:\n",
    "            if i.isdigit():\n",
    "                self.d+=1\n",
    "        print('digit count:',self.d)\n",
    "    def vc_count(self):\n",
    "        for i in self.str:\n",
    "            if i=='a' or i=='e' or i=='i' or i=='o' or i=='u' or i=='A' or i=='E' or i=='I' or i=='O' or i=='U':\n",
    "                self.v+=1\n",
    "            else:\n",
    "                self.c+=1\n",
    "        print('vowel count:',self.v)\n",
    "        print('consonant count:',self.c-self.d-self.s)\n",
    "x=string()\n",
    "x.uc_count()\n",
    "x.lc_count()\n",
    "x.space_count()\n",
    "x.digit_count()\n",
    "x.vc_count()"
   ]
  },
  {
   "cell_type": "code",
   "execution_count": 1,
   "metadata": {},
   "outputs": [],
   "source": [
    "'''\n",
    "class atm\n",
    "methods: create_pin, change_pin(validation required and pin check), withdraw(validation required \n",
    "and pin check), check_balance(validation required and pin check), deposit(validation required and \n",
    "pin check), menu(display choices for selection), 5% bank fees\n",
    "'''\n",
    "class Atm:\n",
    "    def __init__(self):\n",
    "        self.pin=0\n",
    "        self.balance=int(input(\"Enter Balance:\"))\n",
    "        self.menu()\n",
    "    def create_pin(self):\n",
    "        n=int(input('enter 4 digit no to create pin:'))\n",
    "        self.pin=n\n",
    "        print(\"Pin Created Successfully.\")\n",
    "        self.menu()\n",
    "    def change_pin(self):\n",
    "        x=int(input('enter old pin:'))\n",
    "        if self.pin==x:\n",
    "            z=int(input('enter new pin:'))\n",
    "            self.pin=z\n",
    "            print(\"Pin Changed Successfully.\")\n",
    "        else:\n",
    "            print('invalid pin')\n",
    "        self.menu()\n",
    "    def withdraw(self):\n",
    "        x=int(input('enter pin:'))\n",
    "        if self.pin==x:\n",
    "            w=int(input('enter amount to withdraw:'))\n",
    "            if w<self.balance:\n",
    "                self.balance-=w\n",
    "                print('current balance is',self.balance)\n",
    "            else:\n",
    "                print(\"Insufficient Balance\")\n",
    "        else:\n",
    "            print('Incorrect Pin')\n",
    "        self.menu()\n",
    "    def deposit(self):\n",
    "        x=int(input('enter pin:'))\n",
    "        if self.pin==x:\n",
    "            d=int(input('enter amount to deposit:'))\n",
    "            self.balance+=d\n",
    "        print('current balance is',self.balance)\n",
    "        self.menu()\n",
    "    def check_balance(self):\n",
    "        x=int(input('enter pin:'))\n",
    "        if self.pin==x:\n",
    "            print('current balance is',self.balance)\n",
    "        else:\n",
    "            print(\"Incorrect Pin\")\n",
    "        self.menu()\n",
    "    def menu(self):\n",
    "        user_input=int(input('''How can i help you\n",
    "                                1. To create pin\n",
    "                                2. To change pin\n",
    "                                3. To check balance\n",
    "                                4. To withdraw\n",
    "                                5. To deposit\n",
    "                                6. To exit\n",
    "                                '''))\n",
    "        if user_input==1:\n",
    "            self.create_pin()\n",
    "        elif user_input==2:\n",
    "            self.change_pin()\n",
    "        elif user_input==3:\n",
    "            self.check_balance()\n",
    "        elif user_input==4:\n",
    "            self.withdraw()\n",
    "        elif user_input==5:\n",
    "            self.deposit()\n",
    "        else:\n",
    "            exit()"
   ]
  },
  {
   "cell_type": "code",
   "execution_count": 5,
   "metadata": {},
   "outputs": [
    {
     "name": "stdout",
     "output_type": "stream",
     "text": [
      "Enter Balance:25000\n",
      "How can i help you\n",
      "                                1. To create pin\n",
      "                                2. To change pin\n",
      "                                3. To check balance\n",
      "                                4. To withdraw\n",
      "                                5. To deposit\n",
      "                                6. To exit\n",
      "                                1\n",
      "enter 4 digit no to create pin:5678\n",
      "Pin Created Successfully.\n",
      "How can i help you\n",
      "                                1. To create pin\n",
      "                                2. To change pin\n",
      "                                3. To check balance\n",
      "                                4. To withdraw\n",
      "                                5. To deposit\n",
      "                                6. To exit\n",
      "                                2\n",
      "enter old pin:5678\n",
      "enter new pin:1234\n",
      "Pin Changed Successfully.\n",
      "How can i help you\n",
      "                                1. To create pin\n",
      "                                2. To change pin\n",
      "                                3. To check balance\n",
      "                                4. To withdraw\n",
      "                                5. To deposit\n",
      "                                6. To exit\n",
      "                                3\n",
      "enter pin:1234\n",
      "current balance is 25000\n",
      "How can i help you\n",
      "                                1. To create pin\n",
      "                                2. To change pin\n",
      "                                3. To check balance\n",
      "                                4. To withdraw\n",
      "                                5. To deposit\n",
      "                                6. To exit\n",
      "                                4\n",
      "enter pin:1234\n",
      "enter amount to withdraw:1000\n",
      "current balance is 24000\n",
      "How can i help you\n",
      "                                1. To create pin\n",
      "                                2. To change pin\n",
      "                                3. To check balance\n",
      "                                4. To withdraw\n",
      "                                5. To deposit\n",
      "                                6. To exit\n",
      "                                5\n",
      "enter pin:1234\n",
      "enter amount to deposit:1000\n",
      "current balance is 25000\n",
      "How can i help you\n",
      "                                1. To create pin\n",
      "                                2. To change pin\n",
      "                                3. To check balance\n",
      "                                4. To withdraw\n",
      "                                5. To deposit\n",
      "                                6. To exit\n",
      "                                6\n"
     ]
    }
   ],
   "source": [
    "abc=Atm()"
   ]
  },
  {
   "cell_type": "code",
   "execution_count": 16,
   "metadata": {},
   "outputs": [
    {
     "name": "stdout",
     "output_type": "stream",
     "text": [
      "enter item code abc\n",
      "enter price 25\n",
      "enter item code xyz\n",
      "enter price 30\n",
      "enter item code pqr\n",
      "enter price 50\n",
      "Item Code \t Item Price\n",
      "abc \t\t 25\n",
      "xyz \t\t 30\n",
      "pqr \t\t 50\n",
      "enter quantities for each item\n",
      "enter quantity of item code 1 2\n",
      "enter quantity of item code 2 3\n",
      "enter quantity of item code 3 1\n",
      "Item \t Price \t Quantity \t Total\n",
      "abc \t 25 \t 2 \t\t 50\n",
      "xyz \t 30 \t 3 \t\t 90\n",
      "pqr \t 50 \t 1 \t\t 50\n",
      "************************************************\n",
      "Total Amount: 190\n"
     ]
    }
   ],
   "source": [
    "'''WAP that has class store which keeps the record of code and price of each product.Display a \n",
    "menu of all products to the user and prompt him to enter the quantity of each items required.\n",
    "Generate a bill and display the total amount'''\n",
    "class Store:\n",
    "    def __init__(self,n):\n",
    "        self.item_code=[]\n",
    "        self.price=[]\n",
    "        self.n=n\n",
    "    def get_data(self):\n",
    "        for i in range(self.n):\n",
    "            x=input('enter item code ')\n",
    "            self.item_code.append(x)\n",
    "            y=int(input('enter price '))\n",
    "            self.price.append(y)\n",
    "    def display(self):\n",
    "        print(\"Item Code \\t Item Price\")\n",
    "        for i in range(self.n):\n",
    "            print(self.item_code[i],\"\\t\\t\",self.price[i])\n",
    "    def bill(self):\n",
    "        total_amount=0\n",
    "        self.q=[]\n",
    "        print('enter quantities for each item')\n",
    "        for i in range(self.n):\n",
    "            self.q.append(int(input(f'enter quantity of item code {i+1} ')))\n",
    "        for i in range(self.n):\n",
    "            total_amount+=(self.price[i]*self.q[i])\n",
    "        print('Item \\t Price \\t Quantity \\t Total')\n",
    "        for i in range(self.n):\n",
    "            print(self.item_code[i],'\\t',self.price[i],'\\t',self.q[i],'\\t\\t',(self.price[i]*self.q[i]))\n",
    "        print('************************************************')\n",
    "        print('Total Amount:',total_amount)\n",
    "s1=Store(3)\n",
    "s1.get_data()\n",
    "s1.display()\n",
    "s1.bill()"
   ]
  }
 ],
 "metadata": {
  "kernelspec": {
   "display_name": "Python 3",
   "language": "python",
   "name": "python3"
  },
  "language_info": {
   "codemirror_mode": {
    "name": "ipython",
    "version": 3
   },
   "file_extension": ".py",
   "mimetype": "text/x-python",
   "name": "python",
   "nbconvert_exporter": "python",
   "pygments_lexer": "ipython3",
   "version": "3.8.5"
  }
 },
 "nbformat": 4,
 "nbformat_minor": 4
}

{
 "cells": [
  {
   "cell_type": "markdown",
   "metadata": {},
   "source": [
    "Working with files\n",
    "-----"
   ]
  },
  {
   "cell_type": "markdown",
   "metadata": {},
   "source": [
    "1. inbuilt functions:\n",
    "- create\n",
    "- write\n",
    "- reading\n",
    "\n",
    "2. Types of files:\n",
    "- text\n",
    "- binary(not in syllabus)\n",
    "\n",
    "3. Modes of operation:\n",
    "- r, r+, w, w+, a, a+"
   ]
  },
  {
   "cell_type": "markdown",
   "metadata": {},
   "source": [
    "read only(r)\n",
    "---\n",
    "- handle position at the beginning of the file\n",
    "- if the file does not exist,raises the i/o error\n",
    "- default mode"
   ]
  },
  {
   "cell_type": "code",
   "execution_count": 8,
   "metadata": {},
   "outputs": [
    {
     "name": "stdout",
     "output_type": "stream",
     "text": [
      "fghgfdsffglkjlkmhfgn\n",
      "False\n",
      "True\n"
     ]
    },
    {
     "ename": "FileNotFoundError",
     "evalue": "[Errno 2] No such file or directory: 'demo1.txt'",
     "output_type": "error",
     "traceback": [
      "\u001b[1;31m---------------------------------------------------------------------------\u001b[0m",
      "\u001b[1;31mFileNotFoundError\u001b[0m                         Traceback (most recent call last)",
      "\u001b[1;32m<ipython-input-8-f308e4bbb90c>\u001b[0m in \u001b[0;36m<module>\u001b[1;34m\u001b[0m\n\u001b[0;32m      6\u001b[0m \u001b[0mf\u001b[0m\u001b[1;33m.\u001b[0m\u001b[0mclose\u001b[0m\u001b[1;33m(\u001b[0m\u001b[1;33m)\u001b[0m\u001b[1;33m\u001b[0m\u001b[1;33m\u001b[0m\u001b[0m\n\u001b[0;32m      7\u001b[0m \u001b[0mprint\u001b[0m\u001b[1;33m(\u001b[0m\u001b[0mf\u001b[0m\u001b[1;33m.\u001b[0m\u001b[0mclosed\u001b[0m\u001b[1;33m)\u001b[0m\u001b[1;33m\u001b[0m\u001b[1;33m\u001b[0m\u001b[0m\n\u001b[1;32m----> 8\u001b[1;33m \u001b[0mf\u001b[0m\u001b[1;33m=\u001b[0m\u001b[0mopen\u001b[0m\u001b[1;33m(\u001b[0m\u001b[1;34m\"demo1.txt\"\u001b[0m\u001b[1;33m,\u001b[0m\u001b[1;34m\"rt\"\u001b[0m\u001b[1;33m)\u001b[0m\u001b[1;33m\u001b[0m\u001b[1;33m\u001b[0m\u001b[0m\n\u001b[0m",
      "\u001b[1;31mFileNotFoundError\u001b[0m: [Errno 2] No such file or directory: 'demo1.txt'"
     ]
    }
   ],
   "source": [
    "f=open(\"demo.txt\",\"r\")\n",
    "#f=open(\"demo.txt\")\n",
    "#f=open(\"demo.txt\",\"rt\")\n",
    "print(f.read())\n",
    "print(f.closed)\n",
    "f.close()\n",
    "print(f.closed)\n",
    "f=open(\"demo1.txt\",\"rt\")"
   ]
  },
  {
   "cell_type": "code",
   "execution_count": 7,
   "metadata": {},
   "outputs": [
    {
     "name": "stdout",
     "output_type": "stream",
     "text": [
      "fghgfdsffglkjlkmhfgn\n",
      "False\n",
      "True\n"
     ]
    }
   ],
   "source": [
    "with open(\"demo.txt\",\"r\") as f:\n",
    "    print(f.read())\n",
    "    print(f.closed)\n",
    "print(f.closed)"
   ]
  },
  {
   "cell_type": "code",
   "execution_count": 13,
   "metadata": {},
   "outputs": [
    {
     "name": "stdout",
     "output_type": "stream",
     "text": [
      "\n",
      "\n"
     ]
    }
   ],
   "source": [
    "f=open(\"demo.txt\",\"w+\")\n",
    "print(f.read()) #text erased\n",
    "f=open(\"demo1.txt\",\"w+\")\n",
    "print(f.read()) #new file created"
   ]
  },
  {
   "cell_type": "code",
   "execution_count": 14,
   "metadata": {},
   "outputs": [],
   "source": [
    "f=open(\"demo.txt\",\"r+\")\n",
    "f.write(\"This is java\")\n",
    "f.close() #o/p:This is javaon"
   ]
  },
  {
   "cell_type": "code",
   "execution_count": 15,
   "metadata": {},
   "outputs": [],
   "source": [
    "f=open(\"demo.txt\",\"a+\")\n",
    "f.write(\"This is java\")\n",
    "f.close() #o/p:This is pythonThis is java"
   ]
  },
  {
   "cell_type": "code",
   "execution_count": 17,
   "metadata": {},
   "outputs": [],
   "source": [
    "f=open(\"demo.txt\",\"w+\")\n",
    "f.write(\"This is java\")\n",
    "f.close() #o/p:This is java"
   ]
  },
  {
   "cell_type": "code",
   "execution_count": 18,
   "metadata": {},
   "outputs": [
    {
     "ename": "UnsupportedOperation",
     "evalue": "not writable",
     "output_type": "error",
     "traceback": [
      "\u001b[1;31m---------------------------------------------------------------------------\u001b[0m",
      "\u001b[1;31mUnsupportedOperation\u001b[0m                      Traceback (most recent call last)",
      "\u001b[1;32m<ipython-input-18-1ee32711747b>\u001b[0m in \u001b[0;36m<module>\u001b[1;34m\u001b[0m\n\u001b[0;32m      1\u001b[0m \u001b[0mf\u001b[0m\u001b[1;33m=\u001b[0m\u001b[0mopen\u001b[0m\u001b[1;33m(\u001b[0m\u001b[1;34m\"demo.txt\"\u001b[0m\u001b[1;33m,\u001b[0m\u001b[1;34m\"r\"\u001b[0m\u001b[1;33m)\u001b[0m\u001b[1;33m\u001b[0m\u001b[1;33m\u001b[0m\u001b[0m\n\u001b[1;32m----> 2\u001b[1;33m \u001b[0mf\u001b[0m\u001b[1;33m.\u001b[0m\u001b[0mwrite\u001b[0m\u001b[1;33m(\u001b[0m\u001b[1;34m\"This is java\"\u001b[0m\u001b[1;33m)\u001b[0m\u001b[1;33m\u001b[0m\u001b[1;33m\u001b[0m\u001b[0m\n\u001b[0m\u001b[0;32m      3\u001b[0m \u001b[0mf\u001b[0m\u001b[1;33m.\u001b[0m\u001b[0mclose\u001b[0m\u001b[1;33m(\u001b[0m\u001b[1;33m)\u001b[0m\u001b[1;33m\u001b[0m\u001b[1;33m\u001b[0m\u001b[0m\n",
      "\u001b[1;31mUnsupportedOperation\u001b[0m: not writable"
     ]
    }
   ],
   "source": [
    "f=open(\"demo.txt\",\"r\")\n",
    "f.write(\"This is java\")\n",
    "f.close()"
   ]
  },
  {
   "cell_type": "code",
   "execution_count": 23,
   "metadata": {},
   "outputs": [
    {
     "name": "stdout",
     "output_type": "stream",
     "text": [
      "14\n",
      "\n",
      "0\n",
      "This is python\n"
     ]
    }
   ],
   "source": [
    "f=open(\"demo.txt\",\"r+\")\n",
    "f.write(\"This is python\")\n",
    "print(f.tell()) #cursor position\n",
    "print(f.read())\n",
    "f.seek(0) #changes the position of cursor\n",
    "print(f.tell())\n",
    "print(f.read())\n",
    "f.close()"
   ]
  },
  {
   "cell_type": "code",
   "execution_count": 30,
   "metadata": {},
   "outputs": [
    {
     "name": "stdout",
     "output_type": "stream",
     "text": [
      "hfghg\n",
      "jfcdfkjdgd\n",
      "kvf\n",
      "nb\n"
     ]
    }
   ],
   "source": [
    "f=open(\"test.txt\",\"r\")\n",
    "print(f.read(5))\n",
    "print(f.read(10))\n",
    "print(f.read(3))\n",
    "print(f.read())"
   ]
  },
  {
   "cell_type": "code",
   "execution_count": 35,
   "metadata": {},
   "outputs": [
    {
     "name": "stdout",
     "output_type": "stream",
     "text": [
      "This is python 1\n",
      "\n",
      "This is python 2\n",
      "\n",
      "This is python 3\n",
      "\n",
      "This is python 4\n"
     ]
    }
   ],
   "source": [
    "f=open(\"test.txt\",\"r\")\n",
    "print(f.readline())\n",
    "print(f.readline())\n",
    "print(f.readline())\n",
    "print(f.readline())"
   ]
  },
  {
   "cell_type": "code",
   "execution_count": 40,
   "metadata": {},
   "outputs": [
    {
     "name": "stdout",
     "output_type": "stream",
     "text": [
      "This \n",
      "is pyth\n",
      "on 1\n",
      "\n",
      "This is python 2\n",
      "\n",
      "This is python 1\n",
      "\n"
     ]
    }
   ],
   "source": [
    "f=open(\"test.txt\",\"r\")\n",
    "print(f.readline(5))\n",
    "print(f.readline(7))\n",
    "print(f.readline(10))\n",
    "print(f.readline(20))\n",
    "f.seek(0)\n",
    "print(f.readline(50))"
   ]
  },
  {
   "cell_type": "code",
   "execution_count": 43,
   "metadata": {},
   "outputs": [
    {
     "name": "stdout",
     "output_type": "stream",
     "text": [
      "['This is python 1\\n', 'This is python 2\\n', 'This is python 3\\n', 'This is python 4']\n"
     ]
    }
   ],
   "source": [
    "f=open(\"test.txt\",\"r\")\n",
    "print(f.readlines()) #list"
   ]
  },
  {
   "cell_type": "code",
   "execution_count": 51,
   "metadata": {},
   "outputs": [
    {
     "name": "stdout",
     "output_type": "stream",
     "text": [
      "['This is python 1\\n', 'This is python 2\\n', 'This is python 3\\n']\n"
     ]
    }
   ],
   "source": [
    "f=open(\"test.txt\",\"r\")\n",
    "print(f.readlines(40))"
   ]
  },
  {
   "cell_type": "code",
   "execution_count": 54,
   "metadata": {},
   "outputs": [],
   "source": [
    "f=open(\"b4.txt\",\"w\")\n",
    "f.write(\"This is test data\")\n",
    "f.close()"
   ]
  },
  {
   "cell_type": "code",
   "execution_count": 55,
   "metadata": {},
   "outputs": [],
   "source": [
    "with open(\"b4.txt\",\"w\") as f:\n",
    "    f.write(\"Alternate method\")"
   ]
  },
  {
   "cell_type": "code",
   "execution_count": 58,
   "metadata": {},
   "outputs": [],
   "source": [
    "f=open(\"b4.txt\",\"w\")\n",
    "l=[\"A\",\"B\",\"C\",\"D\"]\n",
    "f.writelines(l)\n",
    "f.close()"
   ]
  },
  {
   "cell_type": "code",
   "execution_count": 66,
   "metadata": {},
   "outputs": [
    {
     "name": "stdout",
     "output_type": "stream",
     "text": [
      "enter name a\n",
      "enter name b\n",
      "enter name c\n",
      "enter name d\n",
      "enter name e\n"
     ]
    }
   ],
   "source": [
    "f=open(\"student.txt\",\"w\")\n",
    "for i in range(5):\n",
    "    s=input(\"enter name \")\n",
    "    f.write(s+\"\\n\")\n",
    "f.close()"
   ]
  },
  {
   "cell_type": "code",
   "execution_count": 1,
   "metadata": {},
   "outputs": [
    {
     "name": "stdout",
     "output_type": "stream",
     "text": [
      "enter name a\n",
      "enter name b\n",
      "enter name c\n",
      "enter name d\n",
      "enter name e\n"
     ]
    }
   ],
   "source": [
    "f=open(\"student.txt\",\"w\")\n",
    "l=[]\n",
    "for i in range(5):\n",
    "    s=input(\"enter name \")\n",
    "    l.append(s+\"\\n\")\n",
    "f.writelines(l)\n",
    "f.close()"
   ]
  },
  {
   "cell_type": "code",
   "execution_count": 1,
   "metadata": {},
   "outputs": [
    {
     "name": "stdout",
     "output_type": "stream",
     "text": [
      "False\n",
      "demo.txt\n",
      "r\n",
      "True\n",
      "False\n"
     ]
    }
   ],
   "source": [
    "f=open(\"demo.txt\")\n",
    "#f=open(\"demo.txt\",\"w+\") all modes\n",
    "print(f.closed)\n",
    "print(f.name)\n",
    "print(f.mode)\n",
    "print(f.readable())\n",
    "print(f.writable())"
   ]
  }
 ],
 "metadata": {
  "kernelspec": {
   "display_name": "Python 3",
   "language": "python",
   "name": "python3"
  },
  "language_info": {
   "codemirror_mode": {
    "name": "ipython",
    "version": 3
   },
   "file_extension": ".py",
   "mimetype": "text/x-python",
   "name": "python",
   "nbconvert_exporter": "python",
   "pygments_lexer": "ipython3",
   "version": "3.8.5"
  }
 },
 "nbformat": 4,
 "nbformat_minor": 4
}

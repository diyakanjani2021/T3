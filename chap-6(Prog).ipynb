{
 "cells": [
  {
   "cell_type": "code",
   "execution_count": 27,
   "metadata": {},
   "outputs": [],
   "source": [
    "# WAP to copy the content of one file to another file\n",
    "f1=open(\"demo.txt\",\"r\")\n",
    "f2=open(\"test.txt\",\"w\")\n",
    "f=f1.read()\n",
    "f2.write(f)\n",
    "f1.close()\n",
    "f2.close()"
   ]
  },
  {
   "cell_type": "code",
   "execution_count": 29,
   "metadata": {},
   "outputs": [],
   "source": [
    "# Write a dictionary to the file in python\n",
    "'''o/p: \n",
    "Name:Alice\n",
    "Age:21\n",
    "Degree:CSE\n",
    "University:Oxford\n",
    "'''\n",
    "details={\"Name\":\"Alice\",\"Age\":21,\"Degree\":\"CSE\",\"University\":\"Oxford\"}\n",
    "f=open(\"data.txt\",\"w\")\n",
    "for k,v in details.items():\n",
    "    f.write(str(k)+\":\"+str(v)+\"\\n\")\n",
    "f.close()"
   ]
  },
  {
   "cell_type": "code",
   "execution_count": 30,
   "metadata": {},
   "outputs": [],
   "source": [
    "# WAP to copy the content of one file to another file in upper case\n",
    "f1=open(\"demo.txt\",\"r\")\n",
    "f2=open(\"b4.txt\",\"w\")\n",
    "f=f1.read().upper()\n",
    "f2.write(f)\n",
    "f1.close()\n",
    "f2.close()"
   ]
  },
  {
   "cell_type": "code",
   "execution_count": 34,
   "metadata": {},
   "outputs": [],
   "source": [
    "# WAP to copy the content of one file to another file in reverse order\n",
    "f1=open(\"demo.txt\",\"r\")\n",
    "f2=open(\"b4.txt\",\"w\")\n",
    "f=f1.read()\n",
    "f=f[::-1]\n",
    "f2.write(f)\n",
    "f1.close()\n",
    "f2.close()"
   ]
  },
  {
   "cell_type": "code",
   "execution_count": 46,
   "metadata": {},
   "outputs": [],
   "source": [
    "# WAP to copy the content of one file to another file with line wise reverse\n",
    "f1=open(\"demo.txt\",\"r\")\n",
    "f2=open(\"b4.txt\",\"w\")\n",
    "f=f1.readlines()\n",
    "f2.writelines(f[::-1])\n",
    "f1.close()\n",
    "f2.close()"
   ]
  },
  {
   "cell_type": "code",
   "execution_count": 57,
   "metadata": {},
   "outputs": [
    {
     "name": "stdout",
     "output_type": "stream",
     "text": [
      "enter line no to read 2\n",
      "This is java\n",
      "\n"
     ]
    }
   ],
   "source": [
    "# WAP to read specific line from a file\n",
    "n=int(input(\"enter line no to read \"))\n",
    "f=open(\"demo.txt\",\"r\")\n",
    "x=f.readlines()\n",
    "print(x[n-1]) #index of required line\n",
    "f.close()"
   ]
  },
  {
   "cell_type": "code",
   "execution_count": 68,
   "metadata": {},
   "outputs": [],
   "source": [
    "# WAP to copy the odd lines from one file to other file\n",
    "f1=open(\"demo.txt\",\"r\")\n",
    "f2=open(\"b4.txt\",\"w\")\n",
    "f=f1.readlines()\n",
    "f2.writelines(f[::2]) #odd lines\n",
    "#f2.writelines(f[1::2]) #even lines\n",
    "f1.close()\n",
    "f2.close()"
   ]
  },
  {
   "cell_type": "code",
   "execution_count": 88,
   "metadata": {},
   "outputs": [
    {
     "name": "stdout",
     "output_type": "stream",
     "text": [
      "enter file name demo.txt\n",
      "This is python 1\n",
      "\n",
      "This is python 2\n",
      "\n",
      "This is python 3\n",
      "\n",
      "This is python 4\n",
      "\n",
      "This is python 5\n",
      "\n",
      "Enter any key to continue or press Q to quit \n",
      "This is python 6\n",
      "\n",
      "This is python 7\n",
      "\n",
      "This is python 8\n",
      "\n",
      "This is python 9\n",
      "\n",
      "This is python 10\n",
      "\n",
      "Enter any key to continue or press Q to quit Q\n"
     ]
    }
   ],
   "source": [
    "# file data: This is python 1 to This is python 27\n",
    "fn=input(\"enter file name \")\n",
    "f=open(fn,\"r\")\n",
    "num_lines=5\n",
    "for index,line in enumerate(f,1):\n",
    "    print(line)\n",
    "    if index%num_lines==0:\n",
    "        x=input(\"Enter any key to continue or press Q to quit \")\n",
    "        if x.lower()=='q':\n",
    "            break\n",
    "        else:\n",
    "            continue\n",
    "f.close()"
   ]
  },
  {
   "cell_type": "code",
   "execution_count": 1,
   "metadata": {},
   "outputs": [
    {
     "ename": "SyntaxError",
     "evalue": "invalid syntax (<ipython-input-1-b781853f4fb4>, line 1)",
     "output_type": "error",
     "traceback": [
      "\u001b[1;36m  File \u001b[1;32m\"<ipython-input-1-b781853f4fb4>\"\u001b[1;36m, line \u001b[1;32m1\u001b[0m\n\u001b[1;33m    This is python 1\u001b[0m\n\u001b[1;37m                   ^\u001b[0m\n\u001b[1;31mSyntaxError\u001b[0m\u001b[1;31m:\u001b[0m invalid syntax\n"
     ]
    }
   ],
   "source": [
    "This is python 1\n",
    "\n",
    "This is python 2\n",
    "\n",
    "This is python 3\n",
    "\n",
    "This is python 4\n",
    "\n",
    "This is python 5\n"
   ]
  },
  {
   "cell_type": "code",
   "execution_count": 90,
   "metadata": {},
   "outputs": [],
   "source": [
    "# WAP to copy the content of two files into a single file\n",
    "f1=open(\"test.txt\",\"r\")\n",
    "f2=open(\"b4.txt\",\"r\")\n",
    "f3=open(\"demo.txt\",\"w\")\n",
    "x=f1.read()\n",
    "y=f2.read()\n",
    "f3.write(x)\n",
    "f3.write(y)\n",
    "f1.close()\n",
    "f2.close()\n",
    "f3.close()"
   ]
  },
  {
   "cell_type": "code",
   "execution_count": 2,
   "metadata": {},
   "outputs": [],
   "source": [
    "# WAP to display all the lines of a file except those that has # sign\n",
    "'''i/p\n",
    "# program for addition\n",
    "def sum(a,b): #function definition\n",
    "    c=a+b\n",
    "    print(c) #printing the o/p\n",
    "'''\n",
    "f1=open(\"demo.txt\",\"r\")\n",
    "f2=open(\"test.txt\",\"w\")\n",
    "while True:\n",
    "    f=f1.readline()\n",
    "    if len(f)!=0:\n",
    "        if f[0]==\"#\":\n",
    "            continue\n",
    "        else:\n",
    "            if \"#\" in f:\n",
    "                for index in range(1,len(f)):\n",
    "                    if f[index]==\"#\":\n",
    "                        f2.write(f[0:index]+\"\\n\")\n",
    "            else:\n",
    "                f2.write(f)\n",
    "    else:\n",
    "        break\n",
    "f1.close()\n",
    "f2.close()\n",
    "'''o/p\n",
    "def sum(a,b): \n",
    "    c=a+b\n",
    "    print(c) \n",
    "'''"
   ]
  },
  {
   "cell_type": "code",
   "execution_count": 14,
   "metadata": {},
   "outputs": [
    {
     "name": "stdout",
     "output_type": "stream",
     "text": [
      "line: 1 pos: 9\n"
     ]
    }
   ],
   "source": [
    "# WAP to compare two files and find the difference in line and character\n",
    "'''i/p 1\n",
    "This is Python\n",
    "This is python\n",
    "This is Java\n",
    "This is java\n",
    "\n",
    "i/p 2\n",
    "This is python\n",
    "This is python\n",
    "This is Java\n",
    "This is java\n",
    "'''\n",
    "f1=open(\"demo.txt\",\"r\")\n",
    "f2=open(\"test.txt\",\"r\")\n",
    "s1=f1.read()\n",
    "s2=f2.read()\n",
    "c=n=1\n",
    "for i in range(len(s1)):\n",
    "    if s1[i]==s2[i]:\n",
    "        c+=1\n",
    "        if s1[i]==\"\\n\":\n",
    "            n+=1\n",
    "            c=1\n",
    "    else:\n",
    "        print(\"line:\",n,\"pos:\",c)\n",
    "        c+=1\n",
    "f1.close() \n",
    "f2.close() "
   ]
  },
  {
   "cell_type": "code",
   "execution_count": 30,
   "metadata": {},
   "outputs": [
    {
     "name": "stdout",
     "output_type": "stream",
     "text": [
      "spaces: 2\n",
      "characters: 12\n",
      "words: 3\n"
     ]
    }
   ],
   "source": [
    "# WAP to count words, characters, and spaces from text file\n",
    "'''i/p\n",
    "This is Python\n",
    "'''\n",
    "f=open(\"demo.txt\",\"r\")\n",
    "x=f.read()\n",
    "print('spaces:',x.count(\" \"))\n",
    "print('characters:',len(x)-x.count(\" \")-x.count(\"\\n\"))\n",
    "s=x.split()\n",
    "print('words:',len(s))\n",
    "f.close()"
   ]
  },
  {
   "cell_type": "code",
   "execution_count": 31,
   "metadata": {},
   "outputs": [
    {
     "name": "stdout",
     "output_type": "stream",
     "text": [
      "Friends are honest\n",
      ", Friends \n",
      "are best!\n",
      "\n"
     ]
    }
   ],
   "source": [
    "'''i/p\n",
    "Friends are crazy, Friends are naughty!\n",
    "Friends are honest, Friends are best!\n",
    "Friends are keygen, Friends are license key!\n",
    "We are nothing without friends, life is not possible without friends! chii\n",
    "'''\n",
    "f=open(\"friends.txt\",\"r\")\n",
    "l=f.readline()\n",
    "l2=f.readline(18)\n",
    "ch=f.read(10)\n",
    "print(l2)\n",
    "print(ch)\n",
    "print(f.readline())\n",
    "f.close()"
   ]
  },
  {
   "cell_type": "code",
   "execution_count": 9,
   "metadata": {},
   "outputs": [],
   "source": [
    "# WAP to read line by line from given files file1 and file2 and write into file3\n",
    "f1=open(\"demo.txt\",\"r\")\n",
    "f2=open(\"test.txt\",\"r\")\n",
    "f3=open(\"data.txt\",\"w\")\n",
    "s1=f1.readlines()\n",
    "s2=f2.readlines()\n",
    "l1=len(s1)\n",
    "l2=len(s2)\n",
    "m=max(l1,l2)\n",
    "for i in range(m):\n",
    "    if i<l1:\n",
    "        f3.write(s1[i] + \"\\n\")\n",
    "    if i<l2:\n",
    "        f3.write(s2[i] + \"\\n\")\n",
    "f1.close()\n",
    "f2.close()\n",
    "f3.close() "
   ]
  },
  {
   "cell_type": "code",
   "execution_count": 51,
   "metadata": {},
   "outputs": [
    {
     "name": "stdout",
     "output_type": "stream",
     "text": [
      "dfgbdbfkjsdhgkds\n"
     ]
    },
    {
     "data": {
      "text/plain": [
       "'\\nf=open(\"demo.txt\",\"r\")\\na=f.read().split()\\na.sort(key=len,reverse=True)\\nprint(a[0],len(a[0]))\\nf.close()\\n'"
      ]
     },
     "execution_count": 51,
     "metadata": {},
     "output_type": "execute_result"
    }
   ],
   "source": [
    "# WAP to find the longest word in the text file\n",
    "'''i/p\n",
    "Hello this is python\n",
    "Hello this is java\n",
    "dfgbdbfkjsdhgkds'''\n",
    "f=open(\"demo.txt\",\"r\")\n",
    "s=f.readlines()\n",
    "max=\"\"\n",
    "for i in s:\n",
    "    l=i.split()\n",
    "    for j in l:\n",
    "        if len(j)>len(max):\n",
    "            max=j\n",
    "print(max)\n",
    "f.close()\n",
    "'''\n",
    "f=open(\"demo.txt\",\"r\")\n",
    "a=f.read().split()\n",
    "a.sort(key=len,reverse=True)\n",
    "print(a[0],len(a[0]))\n",
    "f.close()\n",
    "'''"
   ]
  }
 ],
 "metadata": {
  "kernelspec": {
   "display_name": "Python 3",
   "language": "python",
   "name": "python3"
  },
  "language_info": {
   "codemirror_mode": {
    "name": "ipython",
    "version": 3
   },
   "file_extension": ".py",
   "mimetype": "text/x-python",
   "name": "python",
   "nbconvert_exporter": "python",
   "pygments_lexer": "ipython3",
   "version": "3.8.5"
  }
 },
 "nbformat": 4,
 "nbformat_minor": 4
}

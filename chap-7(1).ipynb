{
 "cells": [
  {
   "cell_type": "markdown",
   "metadata": {},
   "source": [
    "Modules And Directories\n",
    "----\n"
   ]
  },
  {
   "cell_type": "markdown",
   "metadata": {},
   "source": [
    "- file containig python definition and statements\n",
    "- module can define functions, classes and variables\n",
    "- grouping related code into a module makes the code easier to understand and use"
   ]
  },
  {
   "cell_type": "code",
   "execution_count": 7,
   "metadata": {},
   "outputs": [
    {
     "name": "stdout",
     "output_type": "stream",
     "text": [
      "['__doc__', '__loader__', '__name__', '__package__', '__spec__', 'acos', 'acosh', 'asin', 'asinh', 'atan', 'atan2', 'atanh', 'ceil', 'comb', 'copysign', 'cos', 'cosh', 'degrees', 'dist', 'e', 'erf', 'erfc', 'exp', 'expm1', 'fabs', 'factorial', 'floor', 'fmod', 'frexp', 'fsum', 'gamma', 'gcd', 'hypot', 'inf', 'isclose', 'isfinite', 'isinf', 'isnan', 'isqrt', 'ldexp', 'lgamma', 'log', 'log10', 'log1p', 'log2', 'modf', 'nan', 'perm', 'pi', 'pow', 'prod', 'radians', 'remainder', 'sin', 'sinh', 'sqrt', 'tan', 'tanh', 'tau', 'trunc']\n",
      "3.141592653589793\n",
      "2.23606797749979\n"
     ]
    }
   ],
   "source": [
    "# in-built module:\n",
    "import math\n",
    "print(dir(math))\n",
    "print(math.pi)\n",
    "print(math.sqrt(5))"
   ]
  },
  {
   "cell_type": "code",
   "execution_count": 8,
   "metadata": {},
   "outputs": [
    {
     "name": "stdout",
     "output_type": "stream",
     "text": [
      "Overwriting demo.txt\n"
     ]
    }
   ],
   "source": [
    "%%writefile demo.txt\n",
    "This is python\n",
    "This is Java"
   ]
  },
  {
   "cell_type": "code",
   "execution_count": 10,
   "metadata": {},
   "outputs": [
    {
     "name": "stdout",
     "output_type": "stream",
     "text": [
      "Overwriting mymodule.py\n"
     ]
    }
   ],
   "source": [
    "%%writefile mymodule.py\n",
    "def sum(a,b):\n",
    "    print('addition:',a+b)\n",
    "def sub(a,b):\n",
    "    print('subtraction:',a-b)\n",
    "def mul(a,b):\n",
    "    print('multiplication:',a*b)\n",
    "def div(a,b):\n",
    "    print('division:',a/b)"
   ]
  },
  {
   "cell_type": "code",
   "execution_count": 13,
   "metadata": {},
   "outputs": [
    {
     "name": "stdout",
     "output_type": "stream",
     "text": [
      "['__builtins__', '__cached__', '__doc__', '__file__', '__loader__', '__name__', '__package__', '__spec__', 'div', 'mul', 'sub', 'sum']\n",
      "addition: 30\n",
      "subtraction: 10\n",
      "multiplication: 200\n",
      "division: 2.0\n"
     ]
    }
   ],
   "source": [
    "import mymodule\n",
    "print(dir(mymodule))\n",
    "mymodule.sum(20,10)\n",
    "mymodule.sub(20,10)\n",
    "mymodule.mul(20,10)\n",
    "mymodule.div(20,10)"
   ]
  },
  {
   "cell_type": "code",
   "execution_count": 16,
   "metadata": {},
   "outputs": [
    {
     "name": "stdout",
     "output_type": "stream",
     "text": [
      "['__builtins__', '__cached__', '__doc__', '__file__', '__loader__', '__name__', '__package__', '__spec__', 'div', 'mul', 'sub', 'sum']\n",
      "addition: 30\n",
      "subtraction: 10\n",
      "multiplication: 200\n",
      "division: 2.0\n"
     ]
    }
   ],
   "source": [
    "import mymodule as m\n",
    "print(dir(m))\n",
    "m.sum(20,10)\n",
    "m.sub(20,10)\n",
    "m.mul(20,10)\n",
    "m.div(20,10)"
   ]
  },
  {
   "cell_type": "code",
   "execution_count": 18,
   "metadata": {},
   "outputs": [
    {
     "name": "stdout",
     "output_type": "stream",
     "text": [
      "addition: 30\n",
      "subtraction: -10\n"
     ]
    },
    {
     "ename": "NameError",
     "evalue": "name 'mul' is not defined",
     "output_type": "error",
     "traceback": [
      "\u001b[1;31m---------------------------------------------------------------------------\u001b[0m",
      "\u001b[1;31mNameError\u001b[0m                                 Traceback (most recent call last)",
      "\u001b[1;32m<ipython-input-18-14900b72d9d3>\u001b[0m in \u001b[0;36m<module>\u001b[1;34m\u001b[0m\n\u001b[0;32m      2\u001b[0m \u001b[0msum\u001b[0m\u001b[1;33m(\u001b[0m\u001b[1;36m10\u001b[0m\u001b[1;33m,\u001b[0m\u001b[1;36m20\u001b[0m\u001b[1;33m)\u001b[0m\u001b[1;33m\u001b[0m\u001b[1;33m\u001b[0m\u001b[0m\n\u001b[0;32m      3\u001b[0m \u001b[0msub\u001b[0m\u001b[1;33m(\u001b[0m\u001b[1;36m10\u001b[0m\u001b[1;33m,\u001b[0m\u001b[1;36m20\u001b[0m\u001b[1;33m)\u001b[0m\u001b[1;33m\u001b[0m\u001b[1;33m\u001b[0m\u001b[0m\n\u001b[1;32m----> 4\u001b[1;33m \u001b[0mmul\u001b[0m\u001b[1;33m(\u001b[0m\u001b[1;36m10\u001b[0m\u001b[1;33m,\u001b[0m\u001b[1;36m20\u001b[0m\u001b[1;33m)\u001b[0m\u001b[1;33m\u001b[0m\u001b[1;33m\u001b[0m\u001b[0m\n\u001b[0m",
      "\u001b[1;31mNameError\u001b[0m: name 'mul' is not defined"
     ]
    }
   ],
   "source": [
    "from mymodule import sum,sub\n",
    "sum(10,20)\n",
    "sub(10,20)\n",
    "mul(10,20)"
   ]
  },
  {
   "cell_type": "code",
   "execution_count": 19,
   "metadata": {},
   "outputs": [
    {
     "name": "stdout",
     "output_type": "stream",
     "text": [
      "addition: 30\n",
      "subtraction: -10\n",
      "multiplication: 200\n"
     ]
    }
   ],
   "source": [
    "from mymodule import *\n",
    "sum(10,20)\n",
    "sub(10,20)\n",
    "mul(10,20)"
   ]
  },
  {
   "cell_type": "code",
   "execution_count": 20,
   "metadata": {},
   "outputs": [
    {
     "name": "stdout",
     "output_type": "stream",
     "text": [
      "addition: 30\n"
     ]
    }
   ],
   "source": [
    "from mymodule import sum as s\n",
    "s(10,20)"
   ]
  },
  {
   "cell_type": "markdown",
   "metadata": {},
   "source": [
    "Python OS Module\n",
    "---"
   ]
  },
  {
   "cell_type": "code",
   "execution_count": 33,
   "metadata": {},
   "outputs": [
    {
     "data": {
      "text/plain": [
       "'C:\\\\Users\\\\LJENG'"
      ]
     },
     "execution_count": 33,
     "metadata": {},
     "output_type": "execute_result"
    }
   ],
   "source": [
    "# 1.Handling the current working directory\n",
    "import os\n",
    "os.getcwd()"
   ]
  },
  {
   "cell_type": "code",
   "execution_count": 34,
   "metadata": {},
   "outputs": [
    {
     "data": {
      "text/plain": [
       "'D:\\\\'"
      ]
     },
     "execution_count": 34,
     "metadata": {},
     "output_type": "execute_result"
    }
   ],
   "source": [
    "# 2.Changing the current working directory\n",
    "import os\n",
    "os.chdir(\"D:\\\\\")\n",
    "os.getcwd()"
   ]
  },
  {
   "cell_type": "code",
   "execution_count": 60,
   "metadata": {},
   "outputs": [
    {
     "data": {
      "text/plain": [
       "'D:\\\\'"
      ]
     },
     "execution_count": 60,
     "metadata": {},
     "output_type": "execute_result"
    }
   ],
   "source": [
    "pwd()"
   ]
  },
  {
   "cell_type": "code",
   "execution_count": 41,
   "metadata": {},
   "outputs": [],
   "source": [
    "# 3.Create a directory\n",
    "import os\n",
    "os.mkdir(\"D:\\\\Python\") #if already available then error"
   ]
  },
  {
   "cell_type": "code",
   "execution_count": 45,
   "metadata": {},
   "outputs": [
    {
     "name": "stdout",
     "output_type": "stream",
     "text": [
      "['$RECYCLE.BIN', 'b2', 'B3 81', 'B4_144 FSD', 'B4_144 Python', 'Python', 'System Volume Information', 't2.class', 't2.java']\n",
      "['chap-6(1).ipynb', 'chap-6(Prog).ipynb']\n"
     ]
    }
   ],
   "source": [
    "# 4.Listing out files and directories\n",
    "import os\n",
    "print(os.listdir()) #current working directory\n",
    "print(os.listdir(\"D:\\\\B4_144 Python\")) #provided path"
   ]
  },
  {
   "cell_type": "markdown",
   "metadata": {},
   "source": [
    "Deleting directories and files\n",
    "----\n",
    "1. os.remove()\n",
    "2. os.rmdir()"
   ]
  },
  {
   "cell_type": "code",
   "execution_count": 59,
   "metadata": {},
   "outputs": [],
   "source": [
    "import os\n",
    "#os.remove(\"D://Python//demo.txt\")  #file removed\n",
    "#os.remove(\"D://Python\")  #permission error\n",
    "#os.rmdir(\"D://Python//demo.txt\") #NotADirectoryError\n",
    "os.rmdir(\"D://Python\") #folder removed only if it is empty otherwise OS error"
   ]
  },
  {
   "cell_type": "code",
   "execution_count": 1,
   "metadata": {},
   "outputs": [
    {
     "name": "stdout",
     "output_type": "stream",
     "text": [
      "Overwriting mymodule.py\n"
     ]
    }
   ],
   "source": [
    "%%writefile mymodule.py\n",
    "def func_str(user):\n",
    "    print(len(user))\n",
    "    print(user.upper())\n",
    "    print(user.lower())\n",
    "    print(user.capitalize())\n",
    "    print(user.title())\n",
    "    print(user.isupper())\n",
    "    print(user.islower())\n",
    "    print(user.isalpha())\n",
    "    print(user.isdigit())\n",
    "    print(user.isalnum())"
   ]
  },
  {
   "cell_type": "code",
   "execution_count": 2,
   "metadata": {},
   "outputs": [
    {
     "name": "stdout",
     "output_type": "stream",
     "text": [
      "enter string diya\n",
      "4\n",
      "DIYA\n",
      "diya\n",
      "Diya\n",
      "Diya\n",
      "False\n",
      "True\n",
      "True\n",
      "False\n",
      "True\n"
     ]
    }
   ],
   "source": [
    "'''WAP to make a module which contains all the basic functions related to string and import that \n",
    "module and use that functions with string entered by user'''\n",
    "# len,upper,lower,capitalize,title,isupper,islower,isalpha,isdigit,isalnum\n",
    "import mymodule as m\n",
    "user=input(\"enter string \")\n",
    "m.func_str(user)"
   ]
  }
 ],
 "metadata": {
  "kernelspec": {
   "display_name": "Python 3",
   "language": "python",
   "name": "python3"
  },
  "language_info": {
   "codemirror_mode": {
    "name": "ipython",
    "version": 3
   },
   "file_extension": ".py",
   "mimetype": "text/x-python",
   "name": "python",
   "nbconvert_exporter": "python",
   "pygments_lexer": "ipython3",
   "version": "3.8.5"
  }
 },
 "nbformat": 4,
 "nbformat_minor": 4
}
